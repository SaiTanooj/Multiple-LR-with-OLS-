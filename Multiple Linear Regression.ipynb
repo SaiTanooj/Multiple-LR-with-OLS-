{
 "cells": [
  {
   "cell_type": "code",
   "execution_count": 1,
   "id": "4d63bd8d",
   "metadata": {},
   "outputs": [],
   "source": [
    "import matplotlib.pyplot as plt\n",
    "import numpy as np\n",
    "import seaborn as sn\n",
    "import pandas as pd\n",
    "import scipy as sp\n",
    "import seaborn as sns\n",
    "import statsmodels.api as sm\n",
    "import statsmodels.tsa.api as smt\n",
    "import warnings\n",
    "from sklearn.linear_model import LinearRegression\n",
    "from sklearn.model_selection import train_test_split\n",
    "data=pd.read_csv(\"multiple_linear_regression.csv\")"
   ]
  },
  {
   "cell_type": "code",
   "execution_count": 2,
   "id": "f79591a2",
   "metadata": {},
   "outputs": [
    {
     "data": {
      "text/html": [
       "<div>\n",
       "<style scoped>\n",
       "    .dataframe tbody tr th:only-of-type {\n",
       "        vertical-align: middle;\n",
       "    }\n",
       "\n",
       "    .dataframe tbody tr th {\n",
       "        vertical-align: top;\n",
       "    }\n",
       "\n",
       "    .dataframe thead th {\n",
       "        text-align: right;\n",
       "    }\n",
       "</style>\n",
       "<table border=\"1\" class=\"dataframe\">\n",
       "  <thead>\n",
       "    <tr style=\"text-align: right;\">\n",
       "      <th></th>\n",
       "      <th>Feature 1</th>\n",
       "      <th>Feature 2</th>\n",
       "      <th>Feature 3</th>\n",
       "      <th>Target</th>\n",
       "    </tr>\n",
       "  </thead>\n",
       "  <tbody>\n",
       "    <tr>\n",
       "      <th>0</th>\n",
       "      <td>230.1</td>\n",
       "      <td>37.8</td>\n",
       "      <td>69.2</td>\n",
       "      <td>22.1</td>\n",
       "    </tr>\n",
       "    <tr>\n",
       "      <th>1</th>\n",
       "      <td>44.5</td>\n",
       "      <td>39.3</td>\n",
       "      <td>45.1</td>\n",
       "      <td>10.4</td>\n",
       "    </tr>\n",
       "    <tr>\n",
       "      <th>2</th>\n",
       "      <td>17.2</td>\n",
       "      <td>45.9</td>\n",
       "      <td>69.3</td>\n",
       "      <td>9.3</td>\n",
       "    </tr>\n",
       "    <tr>\n",
       "      <th>3</th>\n",
       "      <td>151.5</td>\n",
       "      <td>41.3</td>\n",
       "      <td>58.5</td>\n",
       "      <td>18.5</td>\n",
       "    </tr>\n",
       "    <tr>\n",
       "      <th>4</th>\n",
       "      <td>180.8</td>\n",
       "      <td>10.8</td>\n",
       "      <td>58.4</td>\n",
       "      <td>12.9</td>\n",
       "    </tr>\n",
       "  </tbody>\n",
       "</table>\n",
       "</div>"
      ],
      "text/plain": [
       "   Feature 1  Feature 2  Feature 3  Target\n",
       "0      230.1       37.8       69.2    22.1\n",
       "1       44.5       39.3       45.1    10.4\n",
       "2       17.2       45.9       69.3     9.3\n",
       "3      151.5       41.3       58.5    18.5\n",
       "4      180.8       10.8       58.4    12.9"
      ]
     },
     "execution_count": 2,
     "metadata": {},
     "output_type": "execute_result"
    }
   ],
   "source": [
    "data.head()"
   ]
  },
  {
   "cell_type": "code",
   "execution_count": 3,
   "id": "b54e692e",
   "metadata": {},
   "outputs": [],
   "source": [
    "x=data.loc[:,data.columns!=\"Target\"]"
   ]
  },
  {
   "cell_type": "code",
   "execution_count": 4,
   "id": "ab09e72e",
   "metadata": {},
   "outputs": [
    {
     "data": {
      "text/html": [
       "<div>\n",
       "<style scoped>\n",
       "    .dataframe tbody tr th:only-of-type {\n",
       "        vertical-align: middle;\n",
       "    }\n",
       "\n",
       "    .dataframe tbody tr th {\n",
       "        vertical-align: top;\n",
       "    }\n",
       "\n",
       "    .dataframe thead th {\n",
       "        text-align: right;\n",
       "    }\n",
       "</style>\n",
       "<table border=\"1\" class=\"dataframe\">\n",
       "  <thead>\n",
       "    <tr style=\"text-align: right;\">\n",
       "      <th></th>\n",
       "      <th>Feature 1</th>\n",
       "      <th>Feature 2</th>\n",
       "      <th>Feature 3</th>\n",
       "    </tr>\n",
       "  </thead>\n",
       "  <tbody>\n",
       "    <tr>\n",
       "      <th>0</th>\n",
       "      <td>230.1</td>\n",
       "      <td>37.8</td>\n",
       "      <td>69.2</td>\n",
       "    </tr>\n",
       "    <tr>\n",
       "      <th>1</th>\n",
       "      <td>44.5</td>\n",
       "      <td>39.3</td>\n",
       "      <td>45.1</td>\n",
       "    </tr>\n",
       "    <tr>\n",
       "      <th>2</th>\n",
       "      <td>17.2</td>\n",
       "      <td>45.9</td>\n",
       "      <td>69.3</td>\n",
       "    </tr>\n",
       "    <tr>\n",
       "      <th>3</th>\n",
       "      <td>151.5</td>\n",
       "      <td>41.3</td>\n",
       "      <td>58.5</td>\n",
       "    </tr>\n",
       "    <tr>\n",
       "      <th>4</th>\n",
       "      <td>180.8</td>\n",
       "      <td>10.8</td>\n",
       "      <td>58.4</td>\n",
       "    </tr>\n",
       "  </tbody>\n",
       "</table>\n",
       "</div>"
      ],
      "text/plain": [
       "   Feature 1  Feature 2  Feature 3\n",
       "0      230.1       37.8       69.2\n",
       "1       44.5       39.3       45.1\n",
       "2       17.2       45.9       69.3\n",
       "3      151.5       41.3       58.5\n",
       "4      180.8       10.8       58.4"
      ]
     },
     "execution_count": 4,
     "metadata": {},
     "output_type": "execute_result"
    }
   ],
   "source": [
    "x.head()"
   ]
  },
  {
   "cell_type": "code",
   "execution_count": 5,
   "id": "70c1711d",
   "metadata": {},
   "outputs": [
    {
     "data": {
      "text/plain": [
       "0    22.1\n",
       "1    10.4\n",
       "2     9.3\n",
       "3    18.5\n",
       "4    12.9\n",
       "Name: Target, dtype: float64"
      ]
     },
     "execution_count": 5,
     "metadata": {},
     "output_type": "execute_result"
    }
   ],
   "source": [
    "y=data.loc[:,\"Target\"]\n",
    "y.head()"
   ]
  },
  {
   "cell_type": "code",
   "execution_count": 9,
   "id": "52432f8e",
   "metadata": {},
   "outputs": [
    {
     "data": {
      "text/html": [
       "<div>\n",
       "<style scoped>\n",
       "    .dataframe tbody tr th:only-of-type {\n",
       "        vertical-align: middle;\n",
       "    }\n",
       "\n",
       "    .dataframe tbody tr th {\n",
       "        vertical-align: top;\n",
       "    }\n",
       "\n",
       "    .dataframe thead th {\n",
       "        text-align: right;\n",
       "    }\n",
       "</style>\n",
       "<table border=\"1\" class=\"dataframe\">\n",
       "  <thead>\n",
       "    <tr style=\"text-align: right;\">\n",
       "      <th></th>\n",
       "      <th>Feature 1</th>\n",
       "      <th>Feature 2</th>\n",
       "      <th>Feature 3</th>\n",
       "    </tr>\n",
       "  </thead>\n",
       "  <tbody>\n",
       "    <tr>\n",
       "      <th>142</th>\n",
       "      <td>220.5</td>\n",
       "      <td>33.2</td>\n",
       "      <td>37.9</td>\n",
       "    </tr>\n",
       "    <tr>\n",
       "      <th>125</th>\n",
       "      <td>87.2</td>\n",
       "      <td>11.8</td>\n",
       "      <td>25.9</td>\n",
       "    </tr>\n",
       "    <tr>\n",
       "      <th>101</th>\n",
       "      <td>296.4</td>\n",
       "      <td>36.3</td>\n",
       "      <td>100.9</td>\n",
       "    </tr>\n",
       "    <tr>\n",
       "      <th>131</th>\n",
       "      <td>265.2</td>\n",
       "      <td>2.9</td>\n",
       "      <td>43.0</td>\n",
       "    </tr>\n",
       "    <tr>\n",
       "      <th>19</th>\n",
       "      <td>147.3</td>\n",
       "      <td>23.9</td>\n",
       "      <td>19.1</td>\n",
       "    </tr>\n",
       "  </tbody>\n",
       "</table>\n",
       "</div>"
      ],
      "text/plain": [
       "     Feature 1  Feature 2  Feature 3\n",
       "142      220.5       33.2       37.9\n",
       "125       87.2       11.8       25.9\n",
       "101      296.4       36.3      100.9\n",
       "131      265.2        2.9       43.0\n",
       "19       147.3       23.9       19.1"
      ]
     },
     "execution_count": 9,
     "metadata": {},
     "output_type": "execute_result"
    }
   ],
   "source": [
    "x_train,x_test,y_train,y_test=train_test_split(x,y,test_size=0.20)\n"
   ]
  },
  {
   "cell_type": "code",
   "execution_count": 12,
   "id": "85f99f5d",
   "metadata": {},
   "outputs": [
    {
     "data": {
      "text/plain": [
       "2.934527546321"
      ]
     },
     "execution_count": 12,
     "metadata": {},
     "output_type": "execute_result"
    }
   ],
   "source": [
    "lr=LinearRegression()\n",
    "lr.fit(x_train,y_train)\n",
    "lr.coef_\n",
    "lr.intercept_"
   ]
  },
  {
   "cell_type": "code",
   "execution_count": 18,
   "id": "7b8ff64a",
   "metadata": {},
   "outputs": [
    {
     "data": {
      "image/png": "[encoded data removed]",
      "text/plain": [
       "<Figure size 640x480 with 1 Axes>"
      ]
     },
     "metadata": {},
     "output_type": "display_data"
    }
   ],
   "source": [
    "predict=lr.predict(x_test)\n",
    "plt.plot(x_test,y_test,\"*\",color=\"blue\")\n",
    "plt.plot(x_test, predict, \"+\", color = \"red\")\n",
    "plt.title(\"Multiple LR\")\n",
    "plt.xlabel(\"I/p\")\n",
    "plt.xticks(np.linspace(1, 500, 10))\n",
    "plt.ylabel(\"O/p\")\n",
    "plt.show()"
   ]
  },
  {
   "cell_type": "markdown",
   "id": "cfd716f9",
   "metadata": {},
   "source": [
    "# Assumption testing\n"
   ]
  },
  {
   "cell_type": "markdown",
   "id": "8fd9f077",
   "metadata": {},
   "source": [
    "###### ASSUMPTIOM 1-MODEL MUST BE UNBIASED"
   ]
  },
  {
   "cell_type": "code",
   "execution_count": 19,
   "id": "a2ac3690",
   "metadata": {},
   "outputs": [
    {
     "data": {
      "text/plain": [
       "array([16.33800902, 18.34587137, 12.88973428,  6.46017076,  8.81188337,\n",
       "        9.97959368, 18.84341476, 12.7595286 , 17.26486854,  9.93741306,\n",
       "       20.34765079, 18.47968109, 11.81498403, 20.41736829, 15.31094469,\n",
       "       18.61780112, 16.89417232, 17.74559884, 14.00304434, 10.56549808,\n",
       "       20.79833524, 13.71452052,  6.8063148 , 20.75301906, 21.58868771,\n",
       "       15.13123522, 10.36459201,  4.44350553, 19.95172905,  9.01556981,\n",
       "        8.13031552, 13.13866357,  8.41319699,  9.4770049 , 11.9523073 ,\n",
       "       20.47215744, 10.35962332, 18.11517913, 21.17177735, 12.49121197,\n",
       "       23.38983355, 23.71400016, 16.34491246, 11.4540406 , 23.17704747,\n",
       "       21.70036056, 12.10789514, 12.76571022, 15.35727303, 23.2258452 ,\n",
       "       12.51802296,  3.56715867,  5.72153198, 17.60667495, 15.57308438,\n",
       "       16.95919393,  4.45946391,  9.11523725, 15.28912993, 11.7174264 ])"
      ]
     },
     "execution_count": 19,
     "metadata": {},
     "output_type": "execute_result"
    }
   ],
   "source": [
    "predict"
   ]
  },
  {
   "cell_type": "code",
   "execution_count": 20,
   "id": "04ee6227",
   "metadata": {},
   "outputs": [
    {
     "data": {
      "text/plain": [
       "152    16.6\n",
       "141    19.2\n",
       "115    12.6\n",
       "22      5.6\n",
       "13      9.7\n",
       "90     11.2\n",
       "33     17.4\n",
       "16     12.5\n",
       "41     17.1\n",
       "18     11.3\n",
       "54     20.2\n",
       "193    19.6\n",
       "75      8.7\n",
       "39     21.5\n",
       "97     15.5\n",
       "188    15.9\n",
       "89     16.7\n",
       "70     18.3\n",
       "135    11.6\n",
       "180    10.5\n",
       "137    20.8\n",
       "174    11.5\n",
       "119     6.6\n",
       "84     21.7\n",
       "30     21.4\n",
       "45     14.9\n",
       "158     7.3\n",
       "192     5.9\n",
       "176    20.2\n",
       "66      9.5\n",
       "24      9.7\n",
       "4      12.9\n",
       "191     9.9\n",
       "140    10.9\n",
       "116    12.2\n",
       "0      22.1\n",
       "72      8.8\n",
       "59     18.4\n",
       "93     22.2\n",
       "190    10.8\n",
       "36     25.4\n",
       "198    25.5\n",
       "40     16.6\n",
       "136     9.5\n",
       "17     24.4\n",
       "47     23.2\n",
       "7      13.2\n",
       "197    12.8\n",
       "156    15.3\n",
       "147    25.4\n",
       "9      10.6\n",
       "108     5.3\n",
       "60      8.1\n",
       "102    14.8\n",
       "25     12.0\n",
       "64     18.0\n",
       "76      6.9\n",
       "29     10.5\n",
       "114    14.6\n",
       "6      11.8\n",
       "Name: Target, dtype: float64"
      ]
     },
     "execution_count": 20,
     "metadata": {},
     "output_type": "execute_result"
    }
   ],
   "source": [
    "y_test"
   ]
  },
  {
   "cell_type": "code",
   "execution_count": 22,
   "id": "5462b51a",
   "metadata": {},
   "outputs": [
    {
     "data": {
      "text/plain": [
       "152   -0.261991\n",
       "141   -0.854129\n",
       "115    0.289734\n",
       "22     0.860171\n",
       "13    -0.888117\n",
       "90    -1.220406\n",
       "33     1.443415\n",
       "16     0.259529\n",
       "41     0.164869\n",
       "18    -1.362587\n",
       "54     0.147651\n",
       "193   -1.120319\n",
       "75     3.114984\n",
       "39    -1.082632\n",
       "97    -0.189055\n",
       "188    2.717801\n",
       "89     0.194172\n",
       "70    -0.554401\n",
       "135    2.403044\n",
       "180    0.065498\n",
       "137   -0.001665\n",
       "174    2.214521\n",
       "119    0.206315\n",
       "84    -0.946981\n",
       "30     0.188688\n",
       "45     0.231235\n",
       "158    3.064592\n",
       "192   -1.456494\n",
       "176   -0.248271\n",
       "66    -0.484430\n",
       "24    -1.569684\n",
       "4      0.238664\n",
       "191   -1.486803\n",
       "140   -1.422995\n",
       "116   -0.247693\n",
       "0     -1.627843\n",
       "72     1.559623\n",
       "59    -0.284821\n",
       "93    -1.028223\n",
       "190    1.691212\n",
       "36    -2.010166\n",
       "198   -1.786000\n",
       "40    -0.255088\n",
       "136    1.954041\n",
       "17    -1.222953\n",
       "47    -1.499639\n",
       "7     -1.092105\n",
       "197   -0.034290\n",
       "156    0.057273\n",
       "147   -2.174155\n",
       "9      1.918023\n",
       "108   -1.732841\n",
       "60    -2.378468\n",
       "102    2.806675\n",
       "25     3.573084\n",
       "64    -1.040806\n",
       "76    -2.440536\n",
       "29    -1.384763\n",
       "114    0.689130\n",
       "6     -0.082574\n",
       "Name: Target, dtype: float64"
      ]
     },
     "execution_count": 22,
     "metadata": {},
     "output_type": "execute_result"
    }
   ],
   "source": [
    "residuals=predict-y_test\n",
    "residuals"
   ]
  },
  {
   "cell_type": "code",
   "execution_count": 26,
   "id": "a08c3b49",
   "metadata": {},
   "outputs": [
    {
     "data": {
      "image/png": "[encoded data removed]",
      "text/plain": [
       "<Figure size 640x480 with 1 Axes>"
      ]
     },
     "metadata": {},
     "output_type": "display_data"
    }
   ],
   "source": [
    "plt.scatter(predict,residuals)\n",
    "plt.xlabel(\"Predicted\")\n",
    "plt.ylabel(\"residual\")\n",
    "plt.show()"
   ]
  },
  {
   "cell_type": "markdown",
   "id": "e0291334",
   "metadata": {},
   "source": [
    "###### Assumption 2 normality in residuals\n"
   ]
  },
  {
   "cell_type": "code",
   "execution_count": 28,
   "id": "5c0be854",
   "metadata": {},
   "outputs": [
    {
     "name": "stderr",
     "output_type": "stream",
     "text": [
      "C:\\Users\\tanta\\AppData\\Local\\Temp\\ipykernel_4580\\1267434961.py:2: UserWarning: \n",
      "\n",
      "`distplot` is a deprecated function and will be removed in seaborn v0.14.0.\n",
      "\n",
      "Please adapt your code to use either `displot` (a figure-level function with\n",
      "similar flexibility) or `histplot` (an axes-level function for histograms).\n",
      "\n",
      "For a guide to updating your code to use the new functions, please see\n",
      "https://gist.github.com/mwaskom/de44147ed2974457ad6372750bbe5751\n",
      "\n",
      "  sn.distplot(residuals)\n"
     ]
    },
    {
     "data": {
      "text/plain": [
       "<Axes: xlabel='Target', ylabel='Density'>"
      ]
     },
     "execution_count": 28,
     "metadata": {},
     "output_type": "execute_result"
    },
    {
     "data": {
      "image/png": "[encoded data removed]",
      "text/plain": [
       "<Figure size 640x480 with 1 Axes>"
      ]
     },
     "metadata": {},
     "output_type": "display_data"
    }
   ],
   "source": [
    "import seaborn as sn\n",
    "sn.distplot(residuals)"
   ]
  },
  {
   "cell_type": "markdown",
   "id": "e3951f4b",
   "metadata": {},
   "source": [
    "# Ordinary Least Square"
   ]
  },
  {
   "cell_type": "code",
   "execution_count": 29,
   "id": "36d8e4c9",
   "metadata": {},
   "outputs": [
    {
     "data": {
      "text/html": [
       "<div>\n",
       "<style scoped>\n",
       "    .dataframe tbody tr th:only-of-type {\n",
       "        vertical-align: middle;\n",
       "    }\n",
       "\n",
       "    .dataframe tbody tr th {\n",
       "        vertical-align: top;\n",
       "    }\n",
       "\n",
       "    .dataframe thead th {\n",
       "        text-align: right;\n",
       "    }\n",
       "</style>\n",
       "<table border=\"1\" class=\"dataframe\">\n",
       "  <thead>\n",
       "    <tr style=\"text-align: right;\">\n",
       "      <th></th>\n",
       "      <th>const</th>\n",
       "      <th>Feature 1</th>\n",
       "      <th>Feature 2</th>\n",
       "      <th>Feature 3</th>\n",
       "    </tr>\n",
       "  </thead>\n",
       "  <tbody>\n",
       "    <tr>\n",
       "      <th>142</th>\n",
       "      <td>1.0</td>\n",
       "      <td>220.5</td>\n",
       "      <td>33.2</td>\n",
       "      <td>37.9</td>\n",
       "    </tr>\n",
       "    <tr>\n",
       "      <th>125</th>\n",
       "      <td>1.0</td>\n",
       "      <td>87.2</td>\n",
       "      <td>11.8</td>\n",
       "      <td>25.9</td>\n",
       "    </tr>\n",
       "    <tr>\n",
       "      <th>101</th>\n",
       "      <td>1.0</td>\n",
       "      <td>296.4</td>\n",
       "      <td>36.3</td>\n",
       "      <td>100.9</td>\n",
       "    </tr>\n",
       "    <tr>\n",
       "      <th>131</th>\n",
       "      <td>1.0</td>\n",
       "      <td>265.2</td>\n",
       "      <td>2.9</td>\n",
       "      <td>43.0</td>\n",
       "    </tr>\n",
       "    <tr>\n",
       "      <th>19</th>\n",
       "      <td>1.0</td>\n",
       "      <td>147.3</td>\n",
       "      <td>23.9</td>\n",
       "      <td>19.1</td>\n",
       "    </tr>\n",
       "    <tr>\n",
       "      <th>...</th>\n",
       "      <td>...</td>\n",
       "      <td>...</td>\n",
       "      <td>...</td>\n",
       "      <td>...</td>\n",
       "    </tr>\n",
       "    <tr>\n",
       "      <th>154</th>\n",
       "      <td>1.0</td>\n",
       "      <td>187.8</td>\n",
       "      <td>21.1</td>\n",
       "      <td>9.5</td>\n",
       "    </tr>\n",
       "    <tr>\n",
       "      <th>173</th>\n",
       "      <td>1.0</td>\n",
       "      <td>168.4</td>\n",
       "      <td>7.1</td>\n",
       "      <td>12.8</td>\n",
       "    </tr>\n",
       "    <tr>\n",
       "      <th>111</th>\n",
       "      <td>1.0</td>\n",
       "      <td>241.7</td>\n",
       "      <td>38.0</td>\n",
       "      <td>23.2</td>\n",
       "    </tr>\n",
       "    <tr>\n",
       "      <th>168</th>\n",
       "      <td>1.0</td>\n",
       "      <td>215.4</td>\n",
       "      <td>23.6</td>\n",
       "      <td>57.6</td>\n",
       "    </tr>\n",
       "    <tr>\n",
       "      <th>73</th>\n",
       "      <td>1.0</td>\n",
       "      <td>129.4</td>\n",
       "      <td>5.7</td>\n",
       "      <td>31.3</td>\n",
       "    </tr>\n",
       "  </tbody>\n",
       "</table>\n",
       "<p>140 rows × 4 columns</p>\n",
       "</div>"
      ],
      "text/plain": [
       "     const  Feature 1  Feature 2  Feature 3\n",
       "142    1.0      220.5       33.2       37.9\n",
       "125    1.0       87.2       11.8       25.9\n",
       "101    1.0      296.4       36.3      100.9\n",
       "131    1.0      265.2        2.9       43.0\n",
       "19     1.0      147.3       23.9       19.1\n",
       "..     ...        ...        ...        ...\n",
       "154    1.0      187.8       21.1        9.5\n",
       "173    1.0      168.4        7.1       12.8\n",
       "111    1.0      241.7       38.0       23.2\n",
       "168    1.0      215.4       23.6       57.6\n",
       "73     1.0      129.4        5.7       31.3\n",
       "\n",
       "[140 rows x 4 columns]"
      ]
     },
     "execution_count": 29,
     "metadata": {},
     "output_type": "execute_result"
    }
   ],
   "source": [
    "x_with_constant = sm.add_constant(x_train)\n",
    "x_with_constant"
   ]
  },
  {
   "cell_type": "code",
   "execution_count": 31,
   "id": "869722e4",
   "metadata": {},
   "outputs": [
    {
     "data": {
      "text/html": [
       "<table class=\"simpletable\">\n",
       "<caption>OLS Regression Results</caption>\n",
       "<tr>\n",
       "  <th>Dep. Variable:</th>         <td>Target</td>      <th>  R-squared:         </th> <td>   0.881</td>\n",
       "</tr>\n",
       "<tr>\n",
       "  <th>Model:</th>                   <td>OLS</td>       <th>  Adj. R-squared:    </th> <td>   0.878</td>\n",
       "</tr>\n",
       "<tr>\n",
       "  <th>Method:</th>             <td>Least Squares</td>  <th>  F-statistic:       </th> <td>   336.0</td>\n",
       "</tr>\n",
       "<tr>\n",
       "  <th>Date:</th>             <td>Thu, 04 Apr 2024</td> <th>  Prob (F-statistic):</th> <td>1.13e-62</td>\n",
       "</tr>\n",
       "<tr>\n",
       "  <th>Time:</th>                 <td>21:04:37</td>     <th>  Log-Likelihood:    </th> <td> -276.63</td>\n",
       "</tr>\n",
       "<tr>\n",
       "  <th>No. Observations:</th>      <td>   140</td>      <th>  AIC:               </th> <td>   561.3</td>\n",
       "</tr>\n",
       "<tr>\n",
       "  <th>Df Residuals:</th>          <td>   136</td>      <th>  BIC:               </th> <td>   573.0</td>\n",
       "</tr>\n",
       "<tr>\n",
       "  <th>Df Model:</th>              <td>     3</td>      <th>                     </th>     <td> </td>   \n",
       "</tr>\n",
       "<tr>\n",
       "  <th>Covariance Type:</th>      <td>nonrobust</td>    <th>                     </th>     <td> </td>   \n",
       "</tr>\n",
       "</table>\n",
       "<table class=\"simpletable\">\n",
       "<tr>\n",
       "      <td></td>         <th>coef</th>     <th>std err</th>      <th>t</th>      <th>P>|t|</th>  <th>[0.025</th>    <th>0.975]</th>  \n",
       "</tr>\n",
       "<tr>\n",
       "  <th>const</th>     <td>    2.9345</td> <td>    0.398</td> <td>    7.369</td> <td> 0.000</td> <td>    2.147</td> <td>    3.722</td>\n",
       "</tr>\n",
       "<tr>\n",
       "  <th>Feature 1</th> <td>    0.0457</td> <td>    0.002</td> <td>   25.241</td> <td> 0.000</td> <td>    0.042</td> <td>    0.049</td>\n",
       "</tr>\n",
       "<tr>\n",
       "  <th>Feature 2</th> <td>    0.1888</td> <td>    0.011</td> <td>   17.444</td> <td> 0.000</td> <td>    0.167</td> <td>    0.210</td>\n",
       "</tr>\n",
       "<tr>\n",
       "  <th>Feature 3</th> <td>   -0.0016</td> <td>    0.008</td> <td>   -0.211</td> <td> 0.833</td> <td>   -0.017</td> <td>    0.014</td>\n",
       "</tr>\n",
       "</table>\n",
       "<table class=\"simpletable\">\n",
       "<tr>\n",
       "  <th>Omnibus:</th>       <td>51.796</td> <th>  Durbin-Watson:     </th> <td>   2.080</td>\n",
       "</tr>\n",
       "<tr>\n",
       "  <th>Prob(Omnibus):</th> <td> 0.000</td> <th>  Jarque-Bera (JB):  </th> <td> 140.587</td>\n",
       "</tr>\n",
       "<tr>\n",
       "  <th>Skew:</th>          <td>-1.466</td> <th>  Prob(JB):          </th> <td>2.96e-31</td>\n",
       "</tr>\n",
       "<tr>\n",
       "  <th>Kurtosis:</th>      <td> 6.938</td> <th>  Cond. No.          </th> <td>    458.</td>\n",
       "</tr>\n",
       "</table><br/><br/>Notes:<br/>[1] Standard Errors assume that the covariance matrix of the errors is correctly specified."
      ],
      "text/latex": [
       "\\begin{center}\n",
       "\\begin{tabular}{lclc}\n",
       "\\toprule\n",
       "\\textbf{Dep. Variable:}    &      Target      & \\textbf{  R-squared:         } &     0.881   \\\\\n",
       "\\textbf{Model:}            &       OLS        & \\textbf{  Adj. R-squared:    } &     0.878   \\\\\n",
       "\\textbf{Method:}           &  Least Squares   & \\textbf{  F-statistic:       } &     336.0   \\\\\n",
       "\\textbf{Date:}             & Thu, 04 Apr 2024 & \\textbf{  Prob (F-statistic):} &  1.13e-62   \\\\\n",
       "\\textbf{Time:}             &     21:04:37     & \\textbf{  Log-Likelihood:    } &   -276.63   \\\\\n",
       "\\textbf{No. Observations:} &         140      & \\textbf{  AIC:               } &     561.3   \\\\\n",
       "\\textbf{Df Residuals:}     &         136      & \\textbf{  BIC:               } &     573.0   \\\\\n",
       "\\textbf{Df Model:}         &           3      & \\textbf{                     } &             \\\\\n",
       "\\textbf{Covariance Type:}  &    nonrobust     & \\textbf{                     } &             \\\\\n",
       "\\bottomrule\n",
       "\\end{tabular}\n",
       "\\begin{tabular}{lcccccc}\n",
       "                   & \\textbf{coef} & \\textbf{std err} & \\textbf{t} & \\textbf{P$> |$t$|$} & \\textbf{[0.025} & \\textbf{0.975]}  \\\\\n",
       "\\midrule\n",
       "\\textbf{const}     &       2.9345  &        0.398     &     7.369  &         0.000        &        2.147    &        3.722     \\\\\n",
       "\\textbf{Feature 1} &       0.0457  &        0.002     &    25.241  &         0.000        &        0.042    &        0.049     \\\\\n",
       "\\textbf{Feature 2} &       0.1888  &        0.011     &    17.444  &         0.000        &        0.167    &        0.210     \\\\\n",
       "\\textbf{Feature 3} &      -0.0016  &        0.008     &    -0.211  &         0.833        &       -0.017    &        0.014     \\\\\n",
       "\\bottomrule\n",
       "\\end{tabular}\n",
       "\\begin{tabular}{lclc}\n",
       "\\textbf{Omnibus:}       & 51.796 & \\textbf{  Durbin-Watson:     } &    2.080  \\\\\n",
       "\\textbf{Prob(Omnibus):} &  0.000 & \\textbf{  Jarque-Bera (JB):  } &  140.587  \\\\\n",
       "\\textbf{Skew:}          & -1.466 & \\textbf{  Prob(JB):          } & 2.96e-31  \\\\\n",
       "\\textbf{Kurtosis:}      &  6.938 & \\textbf{  Cond. No.          } &     458.  \\\\\n",
       "\\bottomrule\n",
       "\\end{tabular}\n",
       "%\\caption{OLS Regression Results}\n",
       "\\end{center}\n",
       "\n",
       "Notes: \\newline\n",
       " [1] Standard Errors assume that the covariance matrix of the errors is correctly specified."
      ],
      "text/plain": [
       "<class 'statsmodels.iolib.summary.Summary'>\n",
       "\"\"\"\n",
       "                            OLS Regression Results                            \n",
       "==============================================================================\n",
       "Dep. Variable:                 Target   R-squared:                       0.881\n",
       "Model:                            OLS   Adj. R-squared:                  0.878\n",
       "Method:                 Least Squares   F-statistic:                     336.0\n",
       "Date:                Thu, 04 Apr 2024   Prob (F-statistic):           1.13e-62\n",
       "Time:                        21:04:37   Log-Likelihood:                -276.63\n",
       "No. Observations:                 140   AIC:                             561.3\n",
       "Df Residuals:                     136   BIC:                             573.0\n",
       "Df Model:                           3                                         \n",
       "Covariance Type:            nonrobust                                         \n",
       "==============================================================================\n",
       "                 coef    std err          t      P>|t|      [0.025      0.975]\n",
       "------------------------------------------------------------------------------\n",
       "const          2.9345      0.398      7.369      0.000       2.147       3.722\n",
       "Feature 1      0.0457      0.002     25.241      0.000       0.042       0.049\n",
       "Feature 2      0.1888      0.011     17.444      0.000       0.167       0.210\n",
       "Feature 3     -0.0016      0.008     -0.211      0.833      -0.017       0.014\n",
       "==============================================================================\n",
       "Omnibus:                       51.796   Durbin-Watson:                   2.080\n",
       "Prob(Omnibus):                  0.000   Jarque-Bera (JB):              140.587\n",
       "Skew:                          -1.466   Prob(JB):                     2.96e-31\n",
       "Kurtosis:                       6.938   Cond. No.                         458.\n",
       "==============================================================================\n",
       "\n",
       "Notes:\n",
       "[1] Standard Errors assume that the covariance matrix of the errors is correctly specified.\n",
       "\"\"\""
      ]
     },
     "execution_count": 31,
     "metadata": {},
     "output_type": "execute_result"
    }
   ],
   "source": [
    "model = sm.OLS(y_train, x_with_constant)\n",
    "result = model.fit()\n",
    "result.summary()"
   ]
  },
  {
   "cell_type": "code",
   "execution_count": null,
   "id": "2520d204",
   "metadata": {},
   "outputs": [],
   "source": [
    "re"
   ]
  }
 ],
 "metadata": {
  "kernelspec": {
   "display_name": "Python 3 (ipykernel)",
   "language": "python",
   "name": "python3"
  },
  "language_info": {
   "codemirror_mode": {
    "name": "ipython",
    "version": 3
   },
   "file_extension": ".py",
   "mimetype": "text/x-python",
   "name": "python",
   "nbconvert_exporter": "python",
   "pygments_lexer": "ipython3",
   "version": "3.11.5"
  }
 },
 "nbformat": 4,
 "nbformat_minor": 5
}
